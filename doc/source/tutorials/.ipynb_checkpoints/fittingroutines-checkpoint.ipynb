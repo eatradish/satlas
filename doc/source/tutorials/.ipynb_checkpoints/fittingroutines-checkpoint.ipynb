{
 "cells": [
  {
   "cell_type": "markdown",
   "metadata": {},
   "source": [
    "# Fitting routines\n",
    "\n",
    "For all methods, the underlying package LMFIT handles the parabolic error calculations and passes along the optimization assignment to SciPy.\n",
    "\n",
    "## Chisquare method\n",
    "\n",
    "When fitting with the chisquare method, the costfunction to be minimized is\n",
    "\n",
    "$$\\chi^2 = \\left(\\frac{y_i-HFS(x_i)}{\\sigma_i}\\right)^2$$\n",
    "\n",
    "with the subscript *i* referring to the datapoint, and *HFS* to the response of the :class:`.HFSModel` class. The algorithm used is the Levenberg-Marquardt algorithm, which gives quick results in a reliable fashion. The :func:`.fitting.chisquare_model` function creates the costfunction used for counting data. The function :func:`.fitting.chisquare_fit` performs the actual fit, while :func:`.fitting.chisquare_spectroscopic_fit` calculates the uncertainty on the data by taking the square root of the number of counts.\n",
    "\n",
    "One of the options for :func:`.fitting.chisquare_model` is the keyword *func*. This applies the given function to the *fitvalue* to calculate the uncertainty on the datapoint. Setting this to the square root function mimics the use of the Poisson distribution instead of the Gaussian distribution for the uncertainty calculation.\n",
    "\n",
    "In order to demonstrate the fit functions, toy data is needed. This is created by assuming some parameters for the basemodel, calculating the response, and then adding random noise."
   ]
  },
  {
   "cell_type": "code",
   "execution_count": 1,
   "metadata": {
    "collapsed": false
   },
   "outputs": [
    {
     "name": "stderr",
     "output_type": "stream",
     "text": [
      "C:\\Anaconda3\\lib\\site-packages\\IPython\\html.py:14: ShimWarning: The `IPython.html` package has been deprecated. You should import from `notebook` instead. `IPython.html.widgets` has moved to `ipywidgets`.\n",
      "  \"`IPython.html.widgets` has moved to `ipywidgets`.\", ShimWarning)\n",
      "C:\\Anaconda3\\lib\\site-packages\\matplotlib\\__init__.py:872: UserWarning: axes.color_cycle is deprecated and replaced with axes.prop_cycle; please use the latter.\n",
      "  warnings.warn(self.msg_depr % (key, alt_key))\n"
     ]
    },
    {
     "name": "stdout",
     "output_type": "stream",
     "text": [
      "True\n",
      "Tolerance seems to be too small.\n",
      "Scaled errors estimated from covariance matrix.\n",
      "NDoF: 191, Chisquare: 243.70943, Reduced Chisquare: 1.2759656\n",
      "[[Variables]]\n",
      "    Al:            99.0223550 +/- 1.029561 (1.04%) (init= 99.02318)\n",
      "    Amp0__1:       0.2380726 (fixed)\n",
      "    Amp1__1:       0.1786341 (fixed)\n",
      "    Amp1__2:       0.535743 (fixed)\n",
      "    Amp2__1:       0.01191064 (fixed)\n",
      "    Amp2__2:       0.1786448 (fixed)\n",
      "    Amp2__3:       1 (fixed)\n",
      "    Au:            199.356040 +/- 0.629877 (0.32%) (init= 199.3564)\n",
      "    Background0:   8.73587716 +/- 0.307256 (3.52%) (init= 8.735893)\n",
      "    Bl:            101.393727 +/- 0.692640 (0.68%) (init= 101.3934)\n",
      "    Bu:            200.771492 +/- 1.111849 (0.55%) (init= 200.7717)\n",
      "    Centroid:      499.690041 +/- 0.505937 (0.10%) (init= 499.6901)\n",
      "    Cl:            0 (fixed)\n",
      "    Cu:            0 (fixed)\n",
      "    FWHMG:         12.2505548 +/- 2.776466 (22.66%) (init= 12.25163)\n",
      "    FWHML:         7.54444296 +/- 2.544660 (33.73%) (init= 7.543783)\n",
      "    N:             0 (fixed)\n",
      "    Saturation:    0 (fixed)\n",
      "    Scale:         96.8951276 +/- 6.935488 (7.16%) (init= 96.89335)\n",
      "    TotalFWHM:     16.7770681 +/- 1.394659 (8.31%)  == '0.5346*FWHML+(0.2166*FWHML**2+FWHMG**2)**0.5'\n"
     ]
    }
   ],
   "source": [
    "import satlas as s\n",
    "import numpy as np\n",
    "np.random.seed(0)  #Ensure the same random numbers each time\n",
    "\n",
    "I = 1.0\n",
    "J = [1.0, 2.0]\n",
    "\n",
    "ABC = [100, 200, 100, 200, 0, 0]\n",
    "fwhm = [10, 10]\n",
    "centroid = 500\n",
    "scale = 100\n",
    "\n",
    "basemodel = s.HFSModel(I, J, ABC, centroid, fwhm=fwhm, scale=scale, background_params=[10], use_racah=True)\n",
    "\n",
    "frequency_range = (min(basemodel.locations) - 100, max(basemodel.locations) + 100)\n",
    "frequency_range = np.linspace(frequency_range[0], frequency_range[1], 200)\n",
    "\n",
    "data = np.floor(basemodel(frequency_range) + basemodel(frequency_range)**0.5 * np.random.randn(len(frequency_range)))\n",
    "\n",
    "success, message = s.chisquare_spectroscopic_fit(basemodel, frequency_range, data)\n",
    "print(success)\n",
    "print(message)\n",
    "basemodel.display_chisquare_fit(show_correl=False)"
   ]
  },
  {
   "cell_type": "markdown",
   "metadata": {},
   "source": [
    "If *func=np.sqrt* is given to the fitfunction, the result is"
   ]
  },
  {
   "cell_type": "code",
   "execution_count": 2,
   "metadata": {
    "collapsed": false
   },
   "outputs": [
    {
     "name": "stdout",
     "output_type": "stream",
     "text": [
      "True\n",
      "Tolerance seems to be too small.\n",
      "Scaled errors estimated from covariance matrix.\n",
      "NDoF: 191, Chisquare: 204.74572, Reduced Chisquare: 1.0719671\n",
      "[[Variables]]\n",
      "    Al:            98.4445376 +/- 0.927717 (0.94%) (init= 98.4456)\n",
      "    Amp0__1:       0.2380726 (fixed)\n",
      "    Amp1__1:       0.1786341 (fixed)\n",
      "    Amp1__2:       0.535743 (fixed)\n",
      "    Amp2__1:       0.01191064 (fixed)\n",
      "    Amp2__2:       0.1786448 (fixed)\n",
      "    Amp2__3:       1 (fixed)\n",
      "    Au:            199.023681 +/- 0.568704 (0.29%) (init= 199.0244)\n",
      "    Background0:   10.5068522 +/- 0.311595 (2.97%) (init= 10.50684)\n",
      "    Bl:            101.251172 +/- 0.636961 (0.63%) (init= 101.252)\n",
      "    Bu:            200.907484 +/- 0.963299 (0.48%) (init= 200.9086)\n",
      "    Centroid:      499.893321 +/- 0.473148 (0.09%) (init= 499.8928)\n",
      "    Cl:            0 (fixed)\n",
      "    Cu:            0 (fixed)\n",
      "    FWHMG:         11.4046730 +/- 2.725470 (23.90%) (init= 11.40435)\n",
      "    FWHML:         8.04079658 +/- 2.450016 (30.47%) (init= 8.040947)\n",
      "    N:             0 (fixed)\n",
      "    Saturation:    0 (fixed)\n",
      "    Scale:         97.0921181 +/- 6.671372 (6.87%) (init= 97.09293)\n",
      "    TotalFWHM:     16.3015558 +/- 1.350555 (8.28%)  == '0.5346*FWHML+(0.2166*FWHML**2+FWHMG**2)**0.5'\n"
     ]
    }
   ],
   "source": [
    "basemodel = s.HFSModel(I, J, ABC, centroid, fwhm=fwhm, scale=scale, background_params=[50], use_racah=True)\n",
    "success, message = s.chisquare_spectroscopic_fit(basemodel, frequency_range, data, func=np.sqrt)\n",
    "print(success)\n",
    "print(message)\n",
    "basemodel.display_chisquare_fit(show_correl=False)"
   ]
  },
  {
   "cell_type": "markdown",
   "metadata": {},
   "source": [
    "which is slightly different.\n",
    "\n",
    "## Maximum Likelihood Estimation\n",
    "\n",
    "The Maximum Likelihood Estimation (MLE) can be used to derive the chisquare method in the case of Gaussian uncertainties. When this is not the case (as it is for counting data, which has a Poisson distribution), a less simplified method has to be used.\n",
    "\n",
    "The MLE method works by minimizing the negative loglikelihood. This is calculated as\n",
    "\n",
    "$$-\\mathcal{L}\\left(\\vec{\\theta}\\middle|x, y, \\sigma\\right) = \\sum_i logp\\left(\\vec{\\theta}\\middle|x_i, y_i, \\sigma_i\\right)$$\n",
    "\n",
    "For the function *logp*, the standard choice is the loglikelihood derived from the Poisson distribution.\n",
    "\n",
    "To use this method, the fitting routine code has to be changed to"
   ]
  },
  {
   "cell_type": "code",
   "execution_count": 3,
   "metadata": {
    "collapsed": false
   },
   "outputs": [
    {
     "name": "stdout",
     "output_type": "stream",
     "text": [
      "True\n",
      "Optimization terminated successfully.\n",
      "[[Variables]]\n",
      "    Al:            98.6119935 (init= 98.63549)\n",
      "    Amp0__1:       0.2380726 (fixed)\n",
      "    Amp1__1:       0.1786341 (fixed)\n",
      "    Amp1__2:       0.535743 (fixed)\n",
      "    Amp2__1:       0.01191064 (fixed)\n",
      "    Amp2__2:       0.1786448 (fixed)\n",
      "    Amp2__3:       1 (fixed)\n",
      "    Au:            199.114212 (init= 199.1435)\n",
      "    Background0:   9.94373112 (init= 9.936184)\n",
      "    Bl:            101.382229 (init= 101.4291)\n",
      "    Bu:            200.982154 (init= 201.0038)\n",
      "    Centroid:      499.846731 (init= 499.8283)\n",
      "    Cl:            0 (fixed)\n",
      "    Cu:            0 (fixed)\n",
      "    FWHMG:         10.7541467 (init= 10.70806)\n",
      "    FWHML:         8.61348271 (init= 8.705107)\n",
      "    N:             0 (fixed)\n",
      "    Saturation:    0 (fixed)\n",
      "    Scale:         98.1004113 (init= 98.00073)\n",
      "    TotalFWHM:     16.0817743  == '0.5346*FWHML+(0.2166*FWHML**2+FWHMG**2)**0.5'\n"
     ]
    }
   ],
   "source": [
    "basemodel = s.HFSModel(I, J, ABC, centroid, fwhm=fwhm, scale=scale, background_params=[10], use_racah=True)\n",
    "success, message = s.likelihood_fit(basemodel, frequency_range, data)\n",
    "print(success)\n",
    "print(message)\n",
    "basemodel.display_mle_fit(show_correl=False)"
   ]
  },
  {
   "cell_type": "markdown",
   "metadata": {},
   "source": [
    "The uncertainties on the parameters can be estimated using a random walk through parameter space, or the analytical boundaries can be calculated. The random walk is explained in another tutorial. To estimate the analytical bounds:"
   ]
  },
  {
   "cell_type": "code",
   "execution_count": 4,
   "metadata": {
    "collapsed": false
   },
   "outputs": [
    {
     "name": "stdout",
     "output_type": "stream",
     "text": [
      "Warning: boundary calculation did not fully succeed for Al\n",
      "Warning: boundary calculation did not fully succeed for Bu\n",
      "Warning: boundary calculation did not fully succeed for Centroid\n",
      "Warning: boundary calculation did not fully succeed for Background0\n",
      "[[Variables]]\n",
      "    Al:            98.5551182 +/- 0.990640 (1.01%) (init= 98.53085)\n",
      "    Amp0__1:       0.2380726 (fixed)\n",
      "    Amp1__1:       0.1786341 (fixed)\n",
      "    Amp1__2:       0.535743 (fixed)\n",
      "    Amp2__1:       0.01191064 (fixed)\n",
      "    Amp2__2:       0.1786448 (fixed)\n",
      "    Amp2__3:       1 (fixed)\n",
      "    Au:            199.070734 +/- 0.612462 (0.31%) (init= 199.0555)\n",
      "    Background0:   9.95439023 +/- 0.344543 (3.46%) (init= 9.958722)\n",
      "    Bl:            101.352552 +/- 0.767891 (0.76%) (init= 101.3491)\n",
      "    Bu:            200.975161 +/- 0.971229 (0.48%) (init= 200.9768)\n",
      "    Centroid:      499.863041 +/- 0.492098 (0.10%) (init= 499.8666)\n",
      "    Cl:            0 (fixed)\n",
      "    Cu:            0 (fixed)\n",
      "    FWHMG:         10.9019676 +/- 3.405584 (31.24%) (init= 10.97597)\n",
      "    FWHML:         8.45277065 +/- 3.093907 (36.60%) (init= 8.384242)\n",
      "    N:             0 (fixed)\n",
      "    Saturation:    0 (fixed)\n",
      "    Scale:         98.0803022 +/- 7.440224 (7.59%) (init= 98.02322)\n",
      "    TotalFWHM:     16.1547399  == '0.5346*FWHML+(0.2166*FWHML**2+FWHMG**2)**0.5'\n"
     ]
    },
    {
     "name": "stderr",
     "output_type": "stream",
     "text": [
      "C:\\Anaconda3\\lib\\site-packages\\scipy\\optimize\\minpack.py:236: RuntimeWarning: The iteration is not making good progress, as measured by the \n",
      "  improvement from the last ten iterations.\n",
      "  warnings.warn(msg, RuntimeWarning)\n"
     ]
    }
   ],
   "source": [
    "s.calculate_analytical_uncertainty(basemodel, frequency_range, data, method='mle')\n",
    "basemodel.display_mle_fit(show_correl=False)"
   ]
  },
  {
   "cell_type": "markdown",
   "metadata": {},
   "source": [
    "By supplying a list of names under the *filter* keyword, the uncertainty on only certain parameters can be estimated.\n",
    "\n",
    "Note that, due to the fact that a fit is performed for every calculated value for a parameter, the numbers given as the best fit might change slightly. Convergence is also not guaranteed, so warning messages might be displayed for some parameters."
   ]
  },
  {
   "cell_type": "code",
   "execution_count": null,
   "metadata": {
    "collapsed": true
   },
   "outputs": [],
   "source": []
  }
 ],
 "metadata": {
  "kernelspec": {
   "display_name": "Python 3",
   "language": "python",
   "name": "python3"
  },
  "language_info": {
   "codemirror_mode": {
    "name": "ipython",
    "version": 3
   },
   "file_extension": ".py",
   "mimetype": "text/x-python",
   "name": "python",
   "nbconvert_exporter": "python",
   "pygments_lexer": "ipython3",
   "version": "3.5.1"
  }
 },
 "nbformat": 4,
 "nbformat_minor": 0
}
